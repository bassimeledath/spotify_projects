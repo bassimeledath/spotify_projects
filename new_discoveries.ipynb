{
 "cells": [
  {
   "cell_type": "code",
   "execution_count": 19,
   "metadata": {},
   "outputs": [],
   "source": [
    "# Dependencies\n",
    "\n",
    "import pandas as pd\n",
    "import numpy as np\n",
    "import spotipy\n",
    "from spotipy.oauth2 import SpotifyClientCredentials\n",
    "import seaborn as sns\n",
    "import spotipy.util as util\n",
    "import matplotlib.pyplot as plt\n",
    "from sklearn.model_selection import train_test_split\n",
    "import warnings\n",
    "import sys\n",
    "import xgboost as xgb\n",
    "from sklearn import preprocessing\n",
    "from sklearn.preprocessing import LabelEncoder\n",
    "from sklearn.metrics import confusion_matrix,roc_curve, auc,roc_auc_score,accuracy_score\n",
    "from sklearn.preprocessing import MinMaxScaler\n",
    "scaler = MinMaxScaler()\n",
    "warnings.filterwarnings(\"ignore\")"
   ]
  },
  {
   "cell_type": "code",
   "execution_count": 20,
   "metadata": {},
   "outputs": [],
   "source": [
    "# Authorization\n",
    "util.prompt_for_user_token(username='22jsfsrf3rxedkj3meohyummy',scope = 'playlist-modify-public',client_id='edf01aac33304516a581c96cb63bd437',client_secret='a7b711f88a604200b660d2a47930133d',redirect_uri='https://example.com/callback/')\n",
    "client_credentials_manager = SpotifyClientCredentials(client_id='edf01aac33304516a581c96cb63bd437', client_secret='a7b711f88a604200b660d2a47930133d') \n",
    "sp = spotipy.Spotify(client_credentials_manager=client_credentials_manager) \n"
   ]
  },
  {
   "cell_type": "code",
   "execution_count": 21,
   "metadata": {},
   "outputs": [],
   "source": [
    "def make_table (uri):\n",
    "    uri = uri\n",
    "    username = uri.split(':')[2]\n",
    "    playlist_id = uri.split(':')[4]\n",
    "    results = sp.user_playlist(username, playlist_id)\n",
    "    all_data = list(results.values())\n",
    "    tracks_play = [list(x.values()) for x in list(all_data[12][\"items\"])]\n",
    "    uri_ = [x[4]['uri'].split(':')[2] for x in tracks_play]\n",
    "    data = pd.DataFrame(sp.audio_features(uri_))\n",
    "    data['song_name'] = [x[4]['name'] for x in tracks_play]\n",
    "    #data['popularity'] = [x[4]['popularity'] for x in tracks_play]\n",
    "    #data['explicit'] = [0 if x[4]['explicit']==False else 1 for x in tracks_play]\n",
    "    data.drop(['type','type','analysis_url','duration_ms','mode','key','track_href','id','time_signature',\n",
    "               'instrumentalness','loudness','liveness'],axis=1,inplace=True)\n",
    "    data['tempo'] = scaler.fit_transform(np.array(data['tempo']).reshape(-1, 1))\n",
    "    data.set_index('song_name',inplace=True)\n",
    "    return data"
   ]
  },
  {
   "cell_type": "code",
   "execution_count": 22,
   "metadata": {},
   "outputs": [],
   "source": [
    "data = make_table('spotify:user:22jsfsrf3rxedkj3meohyummy:playlist:7kDhxtWngRnyWwNlTnkwVh')"
   ]
  },
  {
   "cell_type": "code",
   "execution_count": 23,
   "metadata": {},
   "outputs": [
    {
     "data": {
      "text/html": [
       "<div>\n",
       "<style scoped>\n",
       "    .dataframe tbody tr th:only-of-type {\n",
       "        vertical-align: middle;\n",
       "    }\n",
       "\n",
       "    .dataframe tbody tr th {\n",
       "        vertical-align: top;\n",
       "    }\n",
       "\n",
       "    .dataframe thead th {\n",
       "        text-align: right;\n",
       "    }\n",
       "</style>\n",
       "<table border=\"1\" class=\"dataframe\">\n",
       "  <thead>\n",
       "    <tr style=\"text-align: right;\">\n",
       "      <th></th>\n",
       "      <th>acousticness</th>\n",
       "      <th>danceability</th>\n",
       "      <th>energy</th>\n",
       "      <th>speechiness</th>\n",
       "      <th>tempo</th>\n",
       "      <th>uri</th>\n",
       "      <th>valence</th>\n",
       "    </tr>\n",
       "    <tr>\n",
       "      <th>song_name</th>\n",
       "      <th></th>\n",
       "      <th></th>\n",
       "      <th></th>\n",
       "      <th></th>\n",
       "      <th></th>\n",
       "      <th></th>\n",
       "      <th></th>\n",
       "    </tr>\n",
       "  </thead>\n",
       "  <tbody>\n",
       "    <tr>\n",
       "      <th>Bloom</th>\n",
       "      <td>0.047400</td>\n",
       "      <td>0.471</td>\n",
       "      <td>0.906</td>\n",
       "      <td>0.0476</td>\n",
       "      <td>0.718170</td>\n",
       "      <td>spotify:track:1fPXCSSpwvw9BRL5i5wHlw</td>\n",
       "      <td>0.914</td>\n",
       "    </tr>\n",
       "    <tr>\n",
       "      <th>Your Hate Is Adorable</th>\n",
       "      <td>0.000947</td>\n",
       "      <td>0.576</td>\n",
       "      <td>0.634</td>\n",
       "      <td>0.0312</td>\n",
       "      <td>0.685516</td>\n",
       "      <td>spotify:track:0tqvhmJQhaWyWtzVZOIVg6</td>\n",
       "      <td>0.528</td>\n",
       "    </tr>\n",
       "  </tbody>\n",
       "</table>\n",
       "</div>"
      ],
      "text/plain": [
       "                       acousticness  danceability  energy  speechiness  \\\n",
       "song_name                                                                \n",
       "Bloom                      0.047400         0.471   0.906       0.0476   \n",
       "Your Hate Is Adorable      0.000947         0.576   0.634       0.0312   \n",
       "\n",
       "                          tempo                                   uri  valence  \n",
       "song_name                                                                       \n",
       "Bloom                  0.718170  spotify:track:1fPXCSSpwvw9BRL5i5wHlw    0.914  \n",
       "Your Hate Is Adorable  0.685516  spotify:track:0tqvhmJQhaWyWtzVZOIVg6    0.528  "
      ]
     },
     "execution_count": 23,
     "metadata": {},
     "output_type": "execute_result"
    }
   ],
   "source": [
    "data.head(2)"
   ]
  },
  {
   "cell_type": "code",
   "execution_count": 24,
   "metadata": {},
   "outputs": [],
   "source": [
    "aco = data['acousticness'].mean()\n",
    "dan = data['danceability'].mean()\n",
    "ene = data['energy'].mean()\n",
    "spe = data['speechiness'].mean()\n",
    "tem = data['tempo'].mean()\n",
    "val = data['valence'].mean()\n",
    "means = [aco,dan,ene,spe,tem,val]"
   ]
  },
  {
   "cell_type": "code",
   "execution_count": 25,
   "metadata": {},
   "outputs": [],
   "source": [
    "# Getting data from all fresh find playlists\n",
    "fresh1 = make_table('spotify:user:spotify:playlist:37i9dQZF1DWWjGdmeTyeJ6')\n",
    "fresh2 = make_table('spotify:user:spotify:playlist:37i9dQZF1DWUFAJPVM3HTX')\n",
    "fresh3 = make_table('spotify:user:spotify:playlist:37i9dQZF1DWW4igXXl2Qkp')\n",
    "fresh4 = make_table('spotify:user:spotify:playlist:37i9dQZF1DX3u9TSHqpdJC')\n",
    "fresh5 = make_table('spotify:user:spotify:playlist:37i9dQZF1DX6bBjHfdRnza')\n",
    "fresh6 = make_table('spotify:user:spotify:playlist:37i9dQZF1DWT0upuUFtT7o')\n",
    "fresh7 = make_table('spotify:user:spotify:playlist:37i9dQZF1DX78toxP7mOaJ')\n",
    "fresh = pd.concat([fresh1,fresh2,fresh3,fresh4,fresh5,fresh6,fresh7])"
   ]
  },
  {
   "cell_type": "code",
   "execution_count": 26,
   "metadata": {},
   "outputs": [],
   "source": [
    "columns = [x for x in fresh.columns if x != 'uri']"
   ]
  },
  {
   "cell_type": "code",
   "execution_count": 27,
   "metadata": {},
   "outputs": [],
   "source": [
    "for feature,mean in zip(columns,means):\n",
    "    fresh[feature] = abs(fresh[feature] - mean)"
   ]
  },
  {
   "cell_type": "code",
   "execution_count": 57,
   "metadata": {},
   "outputs": [
    {
     "data": {
      "text/plain": [
       "(171, 8)"
      ]
     },
     "execution_count": 57,
     "metadata": {},
     "output_type": "execute_result"
    }
   ],
   "source": [
    "fresh['score'] = fresh['acousticness'] + fresh['acousticness'] + fresh['danceability'] + fresh['energy'] + fresh['speechiness'] + fresh['tempo'] + fresh['valence']\n",
    "fresh['score'] = 1 - scaler.fit_transform(np.array(fresh['score']).reshape(-1,1))\n",
    "ranked = fresh.sort_values(by=['score'],ascending=False)\n",
    "ranked = ranked[~ranked.index.duplicated(keep='first')]"
   ]
  },
  {
   "cell_type": "code",
   "execution_count": 58,
   "metadata": {},
   "outputs": [],
   "source": [
    "tracks = list(ranked['uri'])"
   ]
  },
  {
   "cell_type": "code",
   "execution_count": 59,
   "metadata": {},
   "outputs": [],
   "source": [
    "def make_new_playlist(username,playlist_name):\n",
    "    playlists_ = []\n",
    "    token = util.prompt_for_user_token(username=username,scope='playlist-modify-public',client_id='edf01aac33304516a581c96cb63bd437',client_secret='a7b711f88a604200b660d2a47930133d',redirect_uri='https://example.com/callback/')\n",
    "    if token:\n",
    "        sp = spotipy.Spotify(auth=token)\n",
    "        sp.trace = False\n",
    "        playlists = sp.user_playlist_create(username, playlist_name)\n",
    "        names = sp.user_playlists(username)\n",
    "        for playlist in names['items']:\n",
    "            playlists_.append(playlist['id'])\n",
    "        return playlists_[0]\n",
    "        \n",
    "    else:\n",
    "        print(\"Can't get token for\", username)\n",
    "\n",
    "def add_tracks(username, playlist_id, tracks):\n",
    "    token = util.prompt_for_user_token(username=username,scope='playlist-modify-public',client_id='edf01aac33304516a581c96cb63bd437',client_secret='a7b711f88a604200b660d2a47930133d',redirect_uri='https://example.com/callback/')\n",
    "    if token:\n",
    "        sp = spotipy.Spotify(auth=token)\n",
    "        sp.trace = False\n",
    "        sp.user_playlist_add_tracks(username, playlist_id, tracks)\n",
    "    \n",
    "    "
   ]
  },
  {
   "cell_type": "code",
   "execution_count": 60,
   "metadata": {},
   "outputs": [],
   "source": [
    "add_tracks('22jsfsrf3rxedkj3meohyummy',make_new_playlist('22jsfsrf3rxedkj3meohyummy','test5'),tracks[:20])"
   ]
  },
  {
   "cell_type": "code",
   "execution_count": null,
   "metadata": {},
   "outputs": [],
   "source": []
  }
 ],
 "metadata": {
  "kernelspec": {
   "display_name": "Python 3",
   "language": "python",
   "name": "python3"
  },
  "language_info": {
   "codemirror_mode": {
    "name": "ipython",
    "version": 3
   },
   "file_extension": ".py",
   "mimetype": "text/x-python",
   "name": "python",
   "nbconvert_exporter": "python",
   "pygments_lexer": "ipython3",
   "version": "3.6.5"
  }
 },
 "nbformat": 4,
 "nbformat_minor": 2
}
